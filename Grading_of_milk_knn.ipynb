{
  "cells": [
    {
      "cell_type": "markdown",
      "metadata": {
        "id": "view-in-github",
        "colab_type": "text"
      },
      "source": [
        "<a href=\"https://colab.research.google.com/github/aiswarya-sureshkumar/Machine-Learning-Projects/blob/main/Grading_of_milk_knn.ipynb\" target=\"_parent\"><img src=\"https://colab.research.google.com/assets/colab-badge.svg\" alt=\"Open In Colab\"/></a>"
      ]
    },
    {
      "cell_type": "code",
      "execution_count": null,
      "metadata": {
        "colab": {
          "base_uri": "https://localhost:8080/",
          "height": 424
        },
        "id": "QrRKgJSiZ_4N",
        "outputId": "d71b78c3-4e07-4d4f-ab85-b77e1ea60c0f"
      },
      "outputs": [
        {
          "output_type": "execute_result",
          "data": {
            "text/plain": [
              "       pH  Temprature  Taste  Odor  Fat   Turbidity  Colour   Grade\n",
              "0     6.6          35      1     0     1          0     254    high\n",
              "1     6.6          36      0     1     0          1     253    high\n",
              "2     8.5          70      1     1     1          1     246     low\n",
              "3     9.5          34      1     1     0          1     255     low\n",
              "4     6.6          37      0     0     0          0     255  medium\n",
              "...   ...         ...    ...   ...   ...        ...     ...     ...\n",
              "1054  6.7          45      1     1     0          0     247  medium\n",
              "1055  6.7          38      1     0     1          0     255    high\n",
              "1056  3.0          40      1     1     1          1     255     low\n",
              "1057  6.8          43      1     0     1          0     250    high\n",
              "1058  8.6          55      0     1     1          1     255     low\n",
              "\n",
              "[1059 rows x 8 columns]"
            ],
            "text/html": [
              "\n",
              "  <div id=\"df-911aaf87-b1a4-4d10-8893-f77d96272ec4\">\n",
              "    <div class=\"colab-df-container\">\n",
              "      <div>\n",
              "<style scoped>\n",
              "    .dataframe tbody tr th:only-of-type {\n",
              "        vertical-align: middle;\n",
              "    }\n",
              "\n",
              "    .dataframe tbody tr th {\n",
              "        vertical-align: top;\n",
              "    }\n",
              "\n",
              "    .dataframe thead th {\n",
              "        text-align: right;\n",
              "    }\n",
              "</style>\n",
              "<table border=\"1\" class=\"dataframe\">\n",
              "  <thead>\n",
              "    <tr style=\"text-align: right;\">\n",
              "      <th></th>\n",
              "      <th>pH</th>\n",
              "      <th>Temprature</th>\n",
              "      <th>Taste</th>\n",
              "      <th>Odor</th>\n",
              "      <th>Fat</th>\n",
              "      <th>Turbidity</th>\n",
              "      <th>Colour</th>\n",
              "      <th>Grade</th>\n",
              "    </tr>\n",
              "  </thead>\n",
              "  <tbody>\n",
              "    <tr>\n",
              "      <th>0</th>\n",
              "      <td>6.6</td>\n",
              "      <td>35</td>\n",
              "      <td>1</td>\n",
              "      <td>0</td>\n",
              "      <td>1</td>\n",
              "      <td>0</td>\n",
              "      <td>254</td>\n",
              "      <td>high</td>\n",
              "    </tr>\n",
              "    <tr>\n",
              "      <th>1</th>\n",
              "      <td>6.6</td>\n",
              "      <td>36</td>\n",
              "      <td>0</td>\n",
              "      <td>1</td>\n",
              "      <td>0</td>\n",
              "      <td>1</td>\n",
              "      <td>253</td>\n",
              "      <td>high</td>\n",
              "    </tr>\n",
              "    <tr>\n",
              "      <th>2</th>\n",
              "      <td>8.5</td>\n",
              "      <td>70</td>\n",
              "      <td>1</td>\n",
              "      <td>1</td>\n",
              "      <td>1</td>\n",
              "      <td>1</td>\n",
              "      <td>246</td>\n",
              "      <td>low</td>\n",
              "    </tr>\n",
              "    <tr>\n",
              "      <th>3</th>\n",
              "      <td>9.5</td>\n",
              "      <td>34</td>\n",
              "      <td>1</td>\n",
              "      <td>1</td>\n",
              "      <td>0</td>\n",
              "      <td>1</td>\n",
              "      <td>255</td>\n",
              "      <td>low</td>\n",
              "    </tr>\n",
              "    <tr>\n",
              "      <th>4</th>\n",
              "      <td>6.6</td>\n",
              "      <td>37</td>\n",
              "      <td>0</td>\n",
              "      <td>0</td>\n",
              "      <td>0</td>\n",
              "      <td>0</td>\n",
              "      <td>255</td>\n",
              "      <td>medium</td>\n",
              "    </tr>\n",
              "    <tr>\n",
              "      <th>...</th>\n",
              "      <td>...</td>\n",
              "      <td>...</td>\n",
              "      <td>...</td>\n",
              "      <td>...</td>\n",
              "      <td>...</td>\n",
              "      <td>...</td>\n",
              "      <td>...</td>\n",
              "      <td>...</td>\n",
              "    </tr>\n",
              "    <tr>\n",
              "      <th>1054</th>\n",
              "      <td>6.7</td>\n",
              "      <td>45</td>\n",
              "      <td>1</td>\n",
              "      <td>1</td>\n",
              "      <td>0</td>\n",
              "      <td>0</td>\n",
              "      <td>247</td>\n",
              "      <td>medium</td>\n",
              "    </tr>\n",
              "    <tr>\n",
              "      <th>1055</th>\n",
              "      <td>6.7</td>\n",
              "      <td>38</td>\n",
              "      <td>1</td>\n",
              "      <td>0</td>\n",
              "      <td>1</td>\n",
              "      <td>0</td>\n",
              "      <td>255</td>\n",
              "      <td>high</td>\n",
              "    </tr>\n",
              "    <tr>\n",
              "      <th>1056</th>\n",
              "      <td>3.0</td>\n",
              "      <td>40</td>\n",
              "      <td>1</td>\n",
              "      <td>1</td>\n",
              "      <td>1</td>\n",
              "      <td>1</td>\n",
              "      <td>255</td>\n",
              "      <td>low</td>\n",
              "    </tr>\n",
              "    <tr>\n",
              "      <th>1057</th>\n",
              "      <td>6.8</td>\n",
              "      <td>43</td>\n",
              "      <td>1</td>\n",
              "      <td>0</td>\n",
              "      <td>1</td>\n",
              "      <td>0</td>\n",
              "      <td>250</td>\n",
              "      <td>high</td>\n",
              "    </tr>\n",
              "    <tr>\n",
              "      <th>1058</th>\n",
              "      <td>8.6</td>\n",
              "      <td>55</td>\n",
              "      <td>0</td>\n",
              "      <td>1</td>\n",
              "      <td>1</td>\n",
              "      <td>1</td>\n",
              "      <td>255</td>\n",
              "      <td>low</td>\n",
              "    </tr>\n",
              "  </tbody>\n",
              "</table>\n",
              "<p>1059 rows × 8 columns</p>\n",
              "</div>\n",
              "      <button class=\"colab-df-convert\" onclick=\"convertToInteractive('df-911aaf87-b1a4-4d10-8893-f77d96272ec4')\"\n",
              "              title=\"Convert this dataframe to an interactive table.\"\n",
              "              style=\"display:none;\">\n",
              "        \n",
              "  <svg xmlns=\"http://www.w3.org/2000/svg\" height=\"24px\"viewBox=\"0 0 24 24\"\n",
              "       width=\"24px\">\n",
              "    <path d=\"M0 0h24v24H0V0z\" fill=\"none\"/>\n",
              "    <path d=\"M18.56 5.44l.94 2.06.94-2.06 2.06-.94-2.06-.94-.94-2.06-.94 2.06-2.06.94zm-11 1L8.5 8.5l.94-2.06 2.06-.94-2.06-.94L8.5 2.5l-.94 2.06-2.06.94zm10 10l.94 2.06.94-2.06 2.06-.94-2.06-.94-.94-2.06-.94 2.06-2.06.94z\"/><path d=\"M17.41 7.96l-1.37-1.37c-.4-.4-.92-.59-1.43-.59-.52 0-1.04.2-1.43.59L10.3 9.45l-7.72 7.72c-.78.78-.78 2.05 0 2.83L4 21.41c.39.39.9.59 1.41.59.51 0 1.02-.2 1.41-.59l7.78-7.78 2.81-2.81c.8-.78.8-2.07 0-2.86zM5.41 20L4 18.59l7.72-7.72 1.47 1.35L5.41 20z\"/>\n",
              "  </svg>\n",
              "      </button>\n",
              "      \n",
              "  <style>\n",
              "    .colab-df-container {\n",
              "      display:flex;\n",
              "      flex-wrap:wrap;\n",
              "      gap: 12px;\n",
              "    }\n",
              "\n",
              "    .colab-df-convert {\n",
              "      background-color: #E8F0FE;\n",
              "      border: none;\n",
              "      border-radius: 50%;\n",
              "      cursor: pointer;\n",
              "      display: none;\n",
              "      fill: #1967D2;\n",
              "      height: 32px;\n",
              "      padding: 0 0 0 0;\n",
              "      width: 32px;\n",
              "    }\n",
              "\n",
              "    .colab-df-convert:hover {\n",
              "      background-color: #E2EBFA;\n",
              "      box-shadow: 0px 1px 2px rgba(60, 64, 67, 0.3), 0px 1px 3px 1px rgba(60, 64, 67, 0.15);\n",
              "      fill: #174EA6;\n",
              "    }\n",
              "\n",
              "    [theme=dark] .colab-df-convert {\n",
              "      background-color: #3B4455;\n",
              "      fill: #D2E3FC;\n",
              "    }\n",
              "\n",
              "    [theme=dark] .colab-df-convert:hover {\n",
              "      background-color: #434B5C;\n",
              "      box-shadow: 0px 1px 3px 1px rgba(0, 0, 0, 0.15);\n",
              "      filter: drop-shadow(0px 1px 2px rgba(0, 0, 0, 0.3));\n",
              "      fill: #FFFFFF;\n",
              "    }\n",
              "  </style>\n",
              "\n",
              "      <script>\n",
              "        const buttonEl =\n",
              "          document.querySelector('#df-911aaf87-b1a4-4d10-8893-f77d96272ec4 button.colab-df-convert');\n",
              "        buttonEl.style.display =\n",
              "          google.colab.kernel.accessAllowed ? 'block' : 'none';\n",
              "\n",
              "        async function convertToInteractive(key) {\n",
              "          const element = document.querySelector('#df-911aaf87-b1a4-4d10-8893-f77d96272ec4');\n",
              "          const dataTable =\n",
              "            await google.colab.kernel.invokeFunction('convertToInteractive',\n",
              "                                                     [key], {});\n",
              "          if (!dataTable) return;\n",
              "\n",
              "          const docLinkHtml = 'Like what you see? Visit the ' +\n",
              "            '<a target=\"_blank\" href=https://colab.research.google.com/notebooks/data_table.ipynb>data table notebook</a>'\n",
              "            + ' to learn more about interactive tables.';\n",
              "          element.innerHTML = '';\n",
              "          dataTable['output_type'] = 'display_data';\n",
              "          await google.colab.output.renderOutput(dataTable, element);\n",
              "          const docLink = document.createElement('div');\n",
              "          docLink.innerHTML = docLinkHtml;\n",
              "          element.appendChild(docLink);\n",
              "        }\n",
              "      </script>\n",
              "    </div>\n",
              "  </div>\n",
              "  "
            ]
          },
          "metadata": {},
          "execution_count": 21
        }
      ],
      "source": [
        "import numpy as np\n",
        "import pandas as pd\n",
        "df=pd.read_csv('/content/milknew.csv')\n",
        "df"
      ]
    },
    {
      "cell_type": "code",
      "execution_count": null,
      "metadata": {
        "colab": {
          "base_uri": "https://localhost:8080/",
          "height": 206
        },
        "id": "DfqZETiiadt3",
        "outputId": "29a55143-b067-4d57-c5de-b7bd19497bba"
      },
      "outputs": [
        {
          "output_type": "execute_result",
          "data": {
            "text/plain": [
              "    pH  Temprature  Taste  Odor  Fat   Turbidity  Colour   Grade\n",
              "0  6.6          35      1     0     1          0     254    high\n",
              "1  6.6          36      0     1     0          1     253    high\n",
              "2  8.5          70      1     1     1          1     246     low\n",
              "3  9.5          34      1     1     0          1     255     low\n",
              "4  6.6          37      0     0     0          0     255  medium"
            ],
            "text/html": [
              "\n",
              "  <div id=\"df-3dbaa688-9f5e-4768-a4ce-0ad145105969\">\n",
              "    <div class=\"colab-df-container\">\n",
              "      <div>\n",
              "<style scoped>\n",
              "    .dataframe tbody tr th:only-of-type {\n",
              "        vertical-align: middle;\n",
              "    }\n",
              "\n",
              "    .dataframe tbody tr th {\n",
              "        vertical-align: top;\n",
              "    }\n",
              "\n",
              "    .dataframe thead th {\n",
              "        text-align: right;\n",
              "    }\n",
              "</style>\n",
              "<table border=\"1\" class=\"dataframe\">\n",
              "  <thead>\n",
              "    <tr style=\"text-align: right;\">\n",
              "      <th></th>\n",
              "      <th>pH</th>\n",
              "      <th>Temprature</th>\n",
              "      <th>Taste</th>\n",
              "      <th>Odor</th>\n",
              "      <th>Fat</th>\n",
              "      <th>Turbidity</th>\n",
              "      <th>Colour</th>\n",
              "      <th>Grade</th>\n",
              "    </tr>\n",
              "  </thead>\n",
              "  <tbody>\n",
              "    <tr>\n",
              "      <th>0</th>\n",
              "      <td>6.6</td>\n",
              "      <td>35</td>\n",
              "      <td>1</td>\n",
              "      <td>0</td>\n",
              "      <td>1</td>\n",
              "      <td>0</td>\n",
              "      <td>254</td>\n",
              "      <td>high</td>\n",
              "    </tr>\n",
              "    <tr>\n",
              "      <th>1</th>\n",
              "      <td>6.6</td>\n",
              "      <td>36</td>\n",
              "      <td>0</td>\n",
              "      <td>1</td>\n",
              "      <td>0</td>\n",
              "      <td>1</td>\n",
              "      <td>253</td>\n",
              "      <td>high</td>\n",
              "    </tr>\n",
              "    <tr>\n",
              "      <th>2</th>\n",
              "      <td>8.5</td>\n",
              "      <td>70</td>\n",
              "      <td>1</td>\n",
              "      <td>1</td>\n",
              "      <td>1</td>\n",
              "      <td>1</td>\n",
              "      <td>246</td>\n",
              "      <td>low</td>\n",
              "    </tr>\n",
              "    <tr>\n",
              "      <th>3</th>\n",
              "      <td>9.5</td>\n",
              "      <td>34</td>\n",
              "      <td>1</td>\n",
              "      <td>1</td>\n",
              "      <td>0</td>\n",
              "      <td>1</td>\n",
              "      <td>255</td>\n",
              "      <td>low</td>\n",
              "    </tr>\n",
              "    <tr>\n",
              "      <th>4</th>\n",
              "      <td>6.6</td>\n",
              "      <td>37</td>\n",
              "      <td>0</td>\n",
              "      <td>0</td>\n",
              "      <td>0</td>\n",
              "      <td>0</td>\n",
              "      <td>255</td>\n",
              "      <td>medium</td>\n",
              "    </tr>\n",
              "  </tbody>\n",
              "</table>\n",
              "</div>\n",
              "      <button class=\"colab-df-convert\" onclick=\"convertToInteractive('df-3dbaa688-9f5e-4768-a4ce-0ad145105969')\"\n",
              "              title=\"Convert this dataframe to an interactive table.\"\n",
              "              style=\"display:none;\">\n",
              "        \n",
              "  <svg xmlns=\"http://www.w3.org/2000/svg\" height=\"24px\"viewBox=\"0 0 24 24\"\n",
              "       width=\"24px\">\n",
              "    <path d=\"M0 0h24v24H0V0z\" fill=\"none\"/>\n",
              "    <path d=\"M18.56 5.44l.94 2.06.94-2.06 2.06-.94-2.06-.94-.94-2.06-.94 2.06-2.06.94zm-11 1L8.5 8.5l.94-2.06 2.06-.94-2.06-.94L8.5 2.5l-.94 2.06-2.06.94zm10 10l.94 2.06.94-2.06 2.06-.94-2.06-.94-.94-2.06-.94 2.06-2.06.94z\"/><path d=\"M17.41 7.96l-1.37-1.37c-.4-.4-.92-.59-1.43-.59-.52 0-1.04.2-1.43.59L10.3 9.45l-7.72 7.72c-.78.78-.78 2.05 0 2.83L4 21.41c.39.39.9.59 1.41.59.51 0 1.02-.2 1.41-.59l7.78-7.78 2.81-2.81c.8-.78.8-2.07 0-2.86zM5.41 20L4 18.59l7.72-7.72 1.47 1.35L5.41 20z\"/>\n",
              "  </svg>\n",
              "      </button>\n",
              "      \n",
              "  <style>\n",
              "    .colab-df-container {\n",
              "      display:flex;\n",
              "      flex-wrap:wrap;\n",
              "      gap: 12px;\n",
              "    }\n",
              "\n",
              "    .colab-df-convert {\n",
              "      background-color: #E8F0FE;\n",
              "      border: none;\n",
              "      border-radius: 50%;\n",
              "      cursor: pointer;\n",
              "      display: none;\n",
              "      fill: #1967D2;\n",
              "      height: 32px;\n",
              "      padding: 0 0 0 0;\n",
              "      width: 32px;\n",
              "    }\n",
              "\n",
              "    .colab-df-convert:hover {\n",
              "      background-color: #E2EBFA;\n",
              "      box-shadow: 0px 1px 2px rgba(60, 64, 67, 0.3), 0px 1px 3px 1px rgba(60, 64, 67, 0.15);\n",
              "      fill: #174EA6;\n",
              "    }\n",
              "\n",
              "    [theme=dark] .colab-df-convert {\n",
              "      background-color: #3B4455;\n",
              "      fill: #D2E3FC;\n",
              "    }\n",
              "\n",
              "    [theme=dark] .colab-df-convert:hover {\n",
              "      background-color: #434B5C;\n",
              "      box-shadow: 0px 1px 3px 1px rgba(0, 0, 0, 0.15);\n",
              "      filter: drop-shadow(0px 1px 2px rgba(0, 0, 0, 0.3));\n",
              "      fill: #FFFFFF;\n",
              "    }\n",
              "  </style>\n",
              "\n",
              "      <script>\n",
              "        const buttonEl =\n",
              "          document.querySelector('#df-3dbaa688-9f5e-4768-a4ce-0ad145105969 button.colab-df-convert');\n",
              "        buttonEl.style.display =\n",
              "          google.colab.kernel.accessAllowed ? 'block' : 'none';\n",
              "\n",
              "        async function convertToInteractive(key) {\n",
              "          const element = document.querySelector('#df-3dbaa688-9f5e-4768-a4ce-0ad145105969');\n",
              "          const dataTable =\n",
              "            await google.colab.kernel.invokeFunction('convertToInteractive',\n",
              "                                                     [key], {});\n",
              "          if (!dataTable) return;\n",
              "\n",
              "          const docLinkHtml = 'Like what you see? Visit the ' +\n",
              "            '<a target=\"_blank\" href=https://colab.research.google.com/notebooks/data_table.ipynb>data table notebook</a>'\n",
              "            + ' to learn more about interactive tables.';\n",
              "          element.innerHTML = '';\n",
              "          dataTable['output_type'] = 'display_data';\n",
              "          await google.colab.output.renderOutput(dataTable, element);\n",
              "          const docLink = document.createElement('div');\n",
              "          docLink.innerHTML = docLinkHtml;\n",
              "          element.appendChild(docLink);\n",
              "        }\n",
              "      </script>\n",
              "    </div>\n",
              "  </div>\n",
              "  "
            ]
          },
          "metadata": {},
          "execution_count": 22
        }
      ],
      "source": [
        "df.head()"
      ]
    },
    {
      "cell_type": "code",
      "execution_count": null,
      "metadata": {
        "colab": {
          "base_uri": "https://localhost:8080/",
          "height": 206
        },
        "id": "pBOO_gb6afpX",
        "outputId": "39f6930f-fab6-4861-8c52-55409006f013"
      },
      "outputs": [
        {
          "output_type": "execute_result",
          "data": {
            "text/plain": [
              "       pH  Temprature  Taste  Odor  Fat   Turbidity  Colour   Grade\n",
              "1054  6.7          45      1     1     0          0     247  medium\n",
              "1055  6.7          38      1     0     1          0     255    high\n",
              "1056  3.0          40      1     1     1          1     255     low\n",
              "1057  6.8          43      1     0     1          0     250    high\n",
              "1058  8.6          55      0     1     1          1     255     low"
            ],
            "text/html": [
              "\n",
              "  <div id=\"df-1130df69-63e4-4077-b4c0-44adf4817d9a\">\n",
              "    <div class=\"colab-df-container\">\n",
              "      <div>\n",
              "<style scoped>\n",
              "    .dataframe tbody tr th:only-of-type {\n",
              "        vertical-align: middle;\n",
              "    }\n",
              "\n",
              "    .dataframe tbody tr th {\n",
              "        vertical-align: top;\n",
              "    }\n",
              "\n",
              "    .dataframe thead th {\n",
              "        text-align: right;\n",
              "    }\n",
              "</style>\n",
              "<table border=\"1\" class=\"dataframe\">\n",
              "  <thead>\n",
              "    <tr style=\"text-align: right;\">\n",
              "      <th></th>\n",
              "      <th>pH</th>\n",
              "      <th>Temprature</th>\n",
              "      <th>Taste</th>\n",
              "      <th>Odor</th>\n",
              "      <th>Fat</th>\n",
              "      <th>Turbidity</th>\n",
              "      <th>Colour</th>\n",
              "      <th>Grade</th>\n",
              "    </tr>\n",
              "  </thead>\n",
              "  <tbody>\n",
              "    <tr>\n",
              "      <th>1054</th>\n",
              "      <td>6.7</td>\n",
              "      <td>45</td>\n",
              "      <td>1</td>\n",
              "      <td>1</td>\n",
              "      <td>0</td>\n",
              "      <td>0</td>\n",
              "      <td>247</td>\n",
              "      <td>medium</td>\n",
              "    </tr>\n",
              "    <tr>\n",
              "      <th>1055</th>\n",
              "      <td>6.7</td>\n",
              "      <td>38</td>\n",
              "      <td>1</td>\n",
              "      <td>0</td>\n",
              "      <td>1</td>\n",
              "      <td>0</td>\n",
              "      <td>255</td>\n",
              "      <td>high</td>\n",
              "    </tr>\n",
              "    <tr>\n",
              "      <th>1056</th>\n",
              "      <td>3.0</td>\n",
              "      <td>40</td>\n",
              "      <td>1</td>\n",
              "      <td>1</td>\n",
              "      <td>1</td>\n",
              "      <td>1</td>\n",
              "      <td>255</td>\n",
              "      <td>low</td>\n",
              "    </tr>\n",
              "    <tr>\n",
              "      <th>1057</th>\n",
              "      <td>6.8</td>\n",
              "      <td>43</td>\n",
              "      <td>1</td>\n",
              "      <td>0</td>\n",
              "      <td>1</td>\n",
              "      <td>0</td>\n",
              "      <td>250</td>\n",
              "      <td>high</td>\n",
              "    </tr>\n",
              "    <tr>\n",
              "      <th>1058</th>\n",
              "      <td>8.6</td>\n",
              "      <td>55</td>\n",
              "      <td>0</td>\n",
              "      <td>1</td>\n",
              "      <td>1</td>\n",
              "      <td>1</td>\n",
              "      <td>255</td>\n",
              "      <td>low</td>\n",
              "    </tr>\n",
              "  </tbody>\n",
              "</table>\n",
              "</div>\n",
              "      <button class=\"colab-df-convert\" onclick=\"convertToInteractive('df-1130df69-63e4-4077-b4c0-44adf4817d9a')\"\n",
              "              title=\"Convert this dataframe to an interactive table.\"\n",
              "              style=\"display:none;\">\n",
              "        \n",
              "  <svg xmlns=\"http://www.w3.org/2000/svg\" height=\"24px\"viewBox=\"0 0 24 24\"\n",
              "       width=\"24px\">\n",
              "    <path d=\"M0 0h24v24H0V0z\" fill=\"none\"/>\n",
              "    <path d=\"M18.56 5.44l.94 2.06.94-2.06 2.06-.94-2.06-.94-.94-2.06-.94 2.06-2.06.94zm-11 1L8.5 8.5l.94-2.06 2.06-.94-2.06-.94L8.5 2.5l-.94 2.06-2.06.94zm10 10l.94 2.06.94-2.06 2.06-.94-2.06-.94-.94-2.06-.94 2.06-2.06.94z\"/><path d=\"M17.41 7.96l-1.37-1.37c-.4-.4-.92-.59-1.43-.59-.52 0-1.04.2-1.43.59L10.3 9.45l-7.72 7.72c-.78.78-.78 2.05 0 2.83L4 21.41c.39.39.9.59 1.41.59.51 0 1.02-.2 1.41-.59l7.78-7.78 2.81-2.81c.8-.78.8-2.07 0-2.86zM5.41 20L4 18.59l7.72-7.72 1.47 1.35L5.41 20z\"/>\n",
              "  </svg>\n",
              "      </button>\n",
              "      \n",
              "  <style>\n",
              "    .colab-df-container {\n",
              "      display:flex;\n",
              "      flex-wrap:wrap;\n",
              "      gap: 12px;\n",
              "    }\n",
              "\n",
              "    .colab-df-convert {\n",
              "      background-color: #E8F0FE;\n",
              "      border: none;\n",
              "      border-radius: 50%;\n",
              "      cursor: pointer;\n",
              "      display: none;\n",
              "      fill: #1967D2;\n",
              "      height: 32px;\n",
              "      padding: 0 0 0 0;\n",
              "      width: 32px;\n",
              "    }\n",
              "\n",
              "    .colab-df-convert:hover {\n",
              "      background-color: #E2EBFA;\n",
              "      box-shadow: 0px 1px 2px rgba(60, 64, 67, 0.3), 0px 1px 3px 1px rgba(60, 64, 67, 0.15);\n",
              "      fill: #174EA6;\n",
              "    }\n",
              "\n",
              "    [theme=dark] .colab-df-convert {\n",
              "      background-color: #3B4455;\n",
              "      fill: #D2E3FC;\n",
              "    }\n",
              "\n",
              "    [theme=dark] .colab-df-convert:hover {\n",
              "      background-color: #434B5C;\n",
              "      box-shadow: 0px 1px 3px 1px rgba(0, 0, 0, 0.15);\n",
              "      filter: drop-shadow(0px 1px 2px rgba(0, 0, 0, 0.3));\n",
              "      fill: #FFFFFF;\n",
              "    }\n",
              "  </style>\n",
              "\n",
              "      <script>\n",
              "        const buttonEl =\n",
              "          document.querySelector('#df-1130df69-63e4-4077-b4c0-44adf4817d9a button.colab-df-convert');\n",
              "        buttonEl.style.display =\n",
              "          google.colab.kernel.accessAllowed ? 'block' : 'none';\n",
              "\n",
              "        async function convertToInteractive(key) {\n",
              "          const element = document.querySelector('#df-1130df69-63e4-4077-b4c0-44adf4817d9a');\n",
              "          const dataTable =\n",
              "            await google.colab.kernel.invokeFunction('convertToInteractive',\n",
              "                                                     [key], {});\n",
              "          if (!dataTable) return;\n",
              "\n",
              "          const docLinkHtml = 'Like what you see? Visit the ' +\n",
              "            '<a target=\"_blank\" href=https://colab.research.google.com/notebooks/data_table.ipynb>data table notebook</a>'\n",
              "            + ' to learn more about interactive tables.';\n",
              "          element.innerHTML = '';\n",
              "          dataTable['output_type'] = 'display_data';\n",
              "          await google.colab.output.renderOutput(dataTable, element);\n",
              "          const docLink = document.createElement('div');\n",
              "          docLink.innerHTML = docLinkHtml;\n",
              "          element.appendChild(docLink);\n",
              "        }\n",
              "      </script>\n",
              "    </div>\n",
              "  </div>\n",
              "  "
            ]
          },
          "metadata": {},
          "execution_count": 23
        }
      ],
      "source": [
        "df.tail()"
      ]
    },
    {
      "cell_type": "code",
      "execution_count": null,
      "metadata": {
        "colab": {
          "base_uri": "https://localhost:8080/"
        },
        "id": "VjM1vy__aiDu",
        "outputId": "22d3b1df-6b55-497b-a19c-a6b62435656d"
      },
      "outputs": [
        {
          "output_type": "execute_result",
          "data": {
            "text/plain": [
              "(1059, 8)"
            ]
          },
          "metadata": {},
          "execution_count": 24
        }
      ],
      "source": [
        "df.shape"
      ]
    },
    {
      "cell_type": "code",
      "execution_count": null,
      "metadata": {
        "colab": {
          "base_uri": "https://localhost:8080/"
        },
        "id": "a8JdKIATak8f",
        "outputId": "978514b2-1aa8-444c-a82d-2cad9893bb96"
      },
      "outputs": [
        {
          "output_type": "execute_result",
          "data": {
            "text/plain": [
              "pH            float64\n",
              "Temprature      int64\n",
              "Taste           int64\n",
              "Odor            int64\n",
              "Fat             int64\n",
              "Turbidity       int64\n",
              "Colour          int64\n",
              "Grade          object\n",
              "dtype: object"
            ]
          },
          "metadata": {},
          "execution_count": 25
        }
      ],
      "source": [
        "df.dtypes"
      ]
    },
    {
      "cell_type": "code",
      "execution_count": null,
      "metadata": {
        "colab": {
          "base_uri": "https://localhost:8080/"
        },
        "id": "TCiW4eY6aqSl",
        "outputId": "6092e18e-f0c4-4160-8dad-2db1eb958573"
      },
      "outputs": [
        {
          "output_type": "execute_result",
          "data": {
            "text/plain": [
              "pH            0\n",
              "Temprature    0\n",
              "Taste         0\n",
              "Odor          0\n",
              "Fat           0\n",
              "Turbidity     0\n",
              "Colour        0\n",
              "Grade         0\n",
              "dtype: int64"
            ]
          },
          "metadata": {},
          "execution_count": 26
        }
      ],
      "source": [
        "df.isna().sum()"
      ]
    },
    {
      "cell_type": "code",
      "execution_count": null,
      "metadata": {
        "colab": {
          "base_uri": "https://localhost:8080/",
          "height": 300
        },
        "id": "txC5jI9na5ud",
        "outputId": "f9437601-4ccd-4641-de93-d10ed1c3585d"
      },
      "outputs": [
        {
          "output_type": "execute_result",
          "data": {
            "text/plain": [
              "                pH   Temprature        Taste         Odor         Fat   \\\n",
              "count  1059.000000  1059.000000  1059.000000  1059.000000  1059.000000   \n",
              "mean      6.630123    44.226629     0.546742     0.432483     0.671388   \n",
              "std       1.399679    10.098364     0.498046     0.495655     0.469930   \n",
              "min       3.000000    34.000000     0.000000     0.000000     0.000000   \n",
              "25%       6.500000    38.000000     0.000000     0.000000     0.000000   \n",
              "50%       6.700000    41.000000     1.000000     0.000000     1.000000   \n",
              "75%       6.800000    45.000000     1.000000     1.000000     1.000000   \n",
              "max       9.500000    90.000000     1.000000     1.000000     1.000000   \n",
              "\n",
              "         Turbidity       Colour  \n",
              "count  1059.000000  1059.000000  \n",
              "mean      0.491029   251.840415  \n",
              "std       0.500156     4.307424  \n",
              "min       0.000000   240.000000  \n",
              "25%       0.000000   250.000000  \n",
              "50%       0.000000   255.000000  \n",
              "75%       1.000000   255.000000  \n",
              "max       1.000000   255.000000  "
            ],
            "text/html": [
              "\n",
              "  <div id=\"df-2b30105e-9263-4ecb-936b-b2c7bdeab64b\">\n",
              "    <div class=\"colab-df-container\">\n",
              "      <div>\n",
              "<style scoped>\n",
              "    .dataframe tbody tr th:only-of-type {\n",
              "        vertical-align: middle;\n",
              "    }\n",
              "\n",
              "    .dataframe tbody tr th {\n",
              "        vertical-align: top;\n",
              "    }\n",
              "\n",
              "    .dataframe thead th {\n",
              "        text-align: right;\n",
              "    }\n",
              "</style>\n",
              "<table border=\"1\" class=\"dataframe\">\n",
              "  <thead>\n",
              "    <tr style=\"text-align: right;\">\n",
              "      <th></th>\n",
              "      <th>pH</th>\n",
              "      <th>Temprature</th>\n",
              "      <th>Taste</th>\n",
              "      <th>Odor</th>\n",
              "      <th>Fat</th>\n",
              "      <th>Turbidity</th>\n",
              "      <th>Colour</th>\n",
              "    </tr>\n",
              "  </thead>\n",
              "  <tbody>\n",
              "    <tr>\n",
              "      <th>count</th>\n",
              "      <td>1059.000000</td>\n",
              "      <td>1059.000000</td>\n",
              "      <td>1059.000000</td>\n",
              "      <td>1059.000000</td>\n",
              "      <td>1059.000000</td>\n",
              "      <td>1059.000000</td>\n",
              "      <td>1059.000000</td>\n",
              "    </tr>\n",
              "    <tr>\n",
              "      <th>mean</th>\n",
              "      <td>6.630123</td>\n",
              "      <td>44.226629</td>\n",
              "      <td>0.546742</td>\n",
              "      <td>0.432483</td>\n",
              "      <td>0.671388</td>\n",
              "      <td>0.491029</td>\n",
              "      <td>251.840415</td>\n",
              "    </tr>\n",
              "    <tr>\n",
              "      <th>std</th>\n",
              "      <td>1.399679</td>\n",
              "      <td>10.098364</td>\n",
              "      <td>0.498046</td>\n",
              "      <td>0.495655</td>\n",
              "      <td>0.469930</td>\n",
              "      <td>0.500156</td>\n",
              "      <td>4.307424</td>\n",
              "    </tr>\n",
              "    <tr>\n",
              "      <th>min</th>\n",
              "      <td>3.000000</td>\n",
              "      <td>34.000000</td>\n",
              "      <td>0.000000</td>\n",
              "      <td>0.000000</td>\n",
              "      <td>0.000000</td>\n",
              "      <td>0.000000</td>\n",
              "      <td>240.000000</td>\n",
              "    </tr>\n",
              "    <tr>\n",
              "      <th>25%</th>\n",
              "      <td>6.500000</td>\n",
              "      <td>38.000000</td>\n",
              "      <td>0.000000</td>\n",
              "      <td>0.000000</td>\n",
              "      <td>0.000000</td>\n",
              "      <td>0.000000</td>\n",
              "      <td>250.000000</td>\n",
              "    </tr>\n",
              "    <tr>\n",
              "      <th>50%</th>\n",
              "      <td>6.700000</td>\n",
              "      <td>41.000000</td>\n",
              "      <td>1.000000</td>\n",
              "      <td>0.000000</td>\n",
              "      <td>1.000000</td>\n",
              "      <td>0.000000</td>\n",
              "      <td>255.000000</td>\n",
              "    </tr>\n",
              "    <tr>\n",
              "      <th>75%</th>\n",
              "      <td>6.800000</td>\n",
              "      <td>45.000000</td>\n",
              "      <td>1.000000</td>\n",
              "      <td>1.000000</td>\n",
              "      <td>1.000000</td>\n",
              "      <td>1.000000</td>\n",
              "      <td>255.000000</td>\n",
              "    </tr>\n",
              "    <tr>\n",
              "      <th>max</th>\n",
              "      <td>9.500000</td>\n",
              "      <td>90.000000</td>\n",
              "      <td>1.000000</td>\n",
              "      <td>1.000000</td>\n",
              "      <td>1.000000</td>\n",
              "      <td>1.000000</td>\n",
              "      <td>255.000000</td>\n",
              "    </tr>\n",
              "  </tbody>\n",
              "</table>\n",
              "</div>\n",
              "      <button class=\"colab-df-convert\" onclick=\"convertToInteractive('df-2b30105e-9263-4ecb-936b-b2c7bdeab64b')\"\n",
              "              title=\"Convert this dataframe to an interactive table.\"\n",
              "              style=\"display:none;\">\n",
              "        \n",
              "  <svg xmlns=\"http://www.w3.org/2000/svg\" height=\"24px\"viewBox=\"0 0 24 24\"\n",
              "       width=\"24px\">\n",
              "    <path d=\"M0 0h24v24H0V0z\" fill=\"none\"/>\n",
              "    <path d=\"M18.56 5.44l.94 2.06.94-2.06 2.06-.94-2.06-.94-.94-2.06-.94 2.06-2.06.94zm-11 1L8.5 8.5l.94-2.06 2.06-.94-2.06-.94L8.5 2.5l-.94 2.06-2.06.94zm10 10l.94 2.06.94-2.06 2.06-.94-2.06-.94-.94-2.06-.94 2.06-2.06.94z\"/><path d=\"M17.41 7.96l-1.37-1.37c-.4-.4-.92-.59-1.43-.59-.52 0-1.04.2-1.43.59L10.3 9.45l-7.72 7.72c-.78.78-.78 2.05 0 2.83L4 21.41c.39.39.9.59 1.41.59.51 0 1.02-.2 1.41-.59l7.78-7.78 2.81-2.81c.8-.78.8-2.07 0-2.86zM5.41 20L4 18.59l7.72-7.72 1.47 1.35L5.41 20z\"/>\n",
              "  </svg>\n",
              "      </button>\n",
              "      \n",
              "  <style>\n",
              "    .colab-df-container {\n",
              "      display:flex;\n",
              "      flex-wrap:wrap;\n",
              "      gap: 12px;\n",
              "    }\n",
              "\n",
              "    .colab-df-convert {\n",
              "      background-color: #E8F0FE;\n",
              "      border: none;\n",
              "      border-radius: 50%;\n",
              "      cursor: pointer;\n",
              "      display: none;\n",
              "      fill: #1967D2;\n",
              "      height: 32px;\n",
              "      padding: 0 0 0 0;\n",
              "      width: 32px;\n",
              "    }\n",
              "\n",
              "    .colab-df-convert:hover {\n",
              "      background-color: #E2EBFA;\n",
              "      box-shadow: 0px 1px 2px rgba(60, 64, 67, 0.3), 0px 1px 3px 1px rgba(60, 64, 67, 0.15);\n",
              "      fill: #174EA6;\n",
              "    }\n",
              "\n",
              "    [theme=dark] .colab-df-convert {\n",
              "      background-color: #3B4455;\n",
              "      fill: #D2E3FC;\n",
              "    }\n",
              "\n",
              "    [theme=dark] .colab-df-convert:hover {\n",
              "      background-color: #434B5C;\n",
              "      box-shadow: 0px 1px 3px 1px rgba(0, 0, 0, 0.15);\n",
              "      filter: drop-shadow(0px 1px 2px rgba(0, 0, 0, 0.3));\n",
              "      fill: #FFFFFF;\n",
              "    }\n",
              "  </style>\n",
              "\n",
              "      <script>\n",
              "        const buttonEl =\n",
              "          document.querySelector('#df-2b30105e-9263-4ecb-936b-b2c7bdeab64b button.colab-df-convert');\n",
              "        buttonEl.style.display =\n",
              "          google.colab.kernel.accessAllowed ? 'block' : 'none';\n",
              "\n",
              "        async function convertToInteractive(key) {\n",
              "          const element = document.querySelector('#df-2b30105e-9263-4ecb-936b-b2c7bdeab64b');\n",
              "          const dataTable =\n",
              "            await google.colab.kernel.invokeFunction('convertToInteractive',\n",
              "                                                     [key], {});\n",
              "          if (!dataTable) return;\n",
              "\n",
              "          const docLinkHtml = 'Like what you see? Visit the ' +\n",
              "            '<a target=\"_blank\" href=https://colab.research.google.com/notebooks/data_table.ipynb>data table notebook</a>'\n",
              "            + ' to learn more about interactive tables.';\n",
              "          element.innerHTML = '';\n",
              "          dataTable['output_type'] = 'display_data';\n",
              "          await google.colab.output.renderOutput(dataTable, element);\n",
              "          const docLink = document.createElement('div');\n",
              "          docLink.innerHTML = docLinkHtml;\n",
              "          element.appendChild(docLink);\n",
              "        }\n",
              "      </script>\n",
              "    </div>\n",
              "  </div>\n",
              "  "
            ]
          },
          "metadata": {},
          "execution_count": 27
        }
      ],
      "source": [
        "df.describe()"
      ]
    },
    {
      "cell_type": "markdown",
      "source": [
        "### **Splitting input and output samples**"
      ],
      "metadata": {
        "id": "kOHekk2uu1dp"
      }
    },
    {
      "cell_type": "code",
      "execution_count": null,
      "metadata": {
        "colab": {
          "base_uri": "https://localhost:8080/"
        },
        "id": "GHUyYuAja9Ve",
        "outputId": "3e59684d-67ee-45c6-a5ad-4211febc6229"
      },
      "outputs": [
        {
          "output_type": "execute_result",
          "data": {
            "text/plain": [
              "array(['high', 'high', 'low', ..., 'low', 'high', 'low'], dtype=object)"
            ]
          },
          "metadata": {},
          "execution_count": 28
        }
      ],
      "source": [
        "x=df.iloc[:,:-1].values\n",
        "x\n",
        "y=df.iloc[:,-1].values\n",
        "y"
      ]
    },
    {
      "cell_type": "markdown",
      "source": [
        "### **Training and Testing data**"
      ],
      "metadata": {
        "id": "IbECreXlvDJZ"
      }
    },
    {
      "cell_type": "code",
      "execution_count": null,
      "metadata": {
        "id": "Aqfn0hzNbHQG"
      },
      "outputs": [],
      "source": [
        "from sklearn.model_selection import train_test_split\n",
        "x_train,x_test,y_train,y_test=train_test_split(x,y,test_size=0.30,random_state=42)"
      ]
    },
    {
      "cell_type": "code",
      "execution_count": null,
      "metadata": {
        "colab": {
          "base_uri": "https://localhost:8080/"
        },
        "id": "ixeQZvhnbKlO",
        "outputId": "58341c93-8c78-4bd2-bf77-baea8c4f8054"
      },
      "outputs": [
        {
          "output_type": "execute_result",
          "data": {
            "text/plain": [
              "array([[  6.6,  37. ,   1. , ...,   1. ,   1. , 255. ],\n",
              "       [  6.6,  37. ,   1. , ...,   1. ,   1. , 255. ],\n",
              "       [  4.7,  38. ,   1. , ...,   1. ,   0. , 255. ],\n",
              "       ...,\n",
              "       [  6.5,  36. ,   0. , ...,   1. ,   0. , 255. ],\n",
              "       [  6.6,  50. ,   0. , ...,   0. ,   1. , 250. ],\n",
              "       [  6.8,  45. ,   1. , ...,   1. ,   0. , 245. ]])"
            ]
          },
          "metadata": {},
          "execution_count": 30
        }
      ],
      "source": [
        "x_train"
      ]
    },
    {
      "cell_type": "code",
      "execution_count": null,
      "metadata": {
        "colab": {
          "base_uri": "https://localhost:8080/"
        },
        "id": "2ArpZJLbbNH1",
        "outputId": "f0945150-6624-4d5d-877c-2cd823727064"
      },
      "outputs": [
        {
          "output_type": "execute_result",
          "data": {
            "text/plain": [
              "array([[  6.6,  40. ,   1. , ...,   1. ,   1. , 255. ],\n",
              "       [  4.5,  60. ,   0. , ...,   1. ,   1. , 250. ],\n",
              "       [  9. ,  43. ,   1. , ...,   1. ,   1. , 250. ],\n",
              "       ...,\n",
              "       [  6.8,  45. ,   0. , ...,   0. ,   1. , 255. ],\n",
              "       [  6.5,  50. ,   1. , ...,   1. ,   0. , 246. ],\n",
              "       [  6.7,  38. ,   1. , ...,   1. ,   0. , 255. ]])"
            ]
          },
          "metadata": {},
          "execution_count": 31
        }
      ],
      "source": [
        "x_test"
      ]
    },
    {
      "cell_type": "code",
      "execution_count": null,
      "metadata": {
        "colab": {
          "base_uri": "https://localhost:8080/"
        },
        "id": "no2v0q69bPMo",
        "outputId": "72d685f7-cb30-4f89-b5f2-c782f7d8632d"
      },
      "outputs": [
        {
          "output_type": "execute_result",
          "data": {
            "text/plain": [
              "array(['high', 'high', 'low', 'low', 'medium', 'low', 'low', 'medium',\n",
              "       'medium', 'high', 'medium', 'low', 'medium', 'medium', 'medium',\n",
              "       'high', 'high', 'low', 'low', 'high', 'high', 'high', 'low', 'low',\n",
              "       'medium', 'low', 'low', 'low', 'high', 'low', 'medium', 'high',\n",
              "       'medium', 'medium', 'low', 'medium', 'medium', 'medium', 'high',\n",
              "       'medium', 'medium', 'low', 'medium', 'medium', 'medium', 'low',\n",
              "       'low', 'high', 'low', 'medium', 'high', 'low', 'low', 'low', 'low',\n",
              "       'low', 'low', 'high', 'low', 'high', 'medium', 'high', 'high',\n",
              "       'high', 'low', 'high', 'low', 'low', 'medium', 'high', 'high',\n",
              "       'low', 'low', 'medium', 'low', 'low', 'low', 'low', 'medium',\n",
              "       'low', 'low', 'low', 'medium', 'high', 'medium', 'high', 'medium',\n",
              "       'high', 'low', 'low', 'medium', 'medium', 'low', 'low', 'low',\n",
              "       'high', 'high', 'low', 'low', 'low', 'low', 'low', 'medium', 'low',\n",
              "       'high', 'medium', 'high', 'medium', 'medium', 'low', 'low', 'low',\n",
              "       'medium', 'medium', 'medium', 'low', 'low', 'low', 'low', 'low',\n",
              "       'high', 'medium', 'medium', 'high', 'low', 'low', 'low', 'low',\n",
              "       'medium', 'medium', 'low', 'medium', 'medium', 'low', 'high',\n",
              "       'high', 'medium', 'medium', 'high', 'low', 'medium', 'medium',\n",
              "       'low', 'low', 'low', 'low', 'medium', 'low', 'medium', 'high',\n",
              "       'low', 'low', 'high', 'medium', 'medium', 'medium', 'medium',\n",
              "       'low', 'medium', 'low', 'high', 'medium', 'medium', 'low', 'low',\n",
              "       'medium', 'medium', 'low', 'low', 'medium', 'low', 'high',\n",
              "       'medium', 'high', 'medium', 'medium', 'medium', 'low', 'low',\n",
              "       'high', 'medium', 'low', 'high', 'medium', 'low', 'medium',\n",
              "       'medium', 'low', 'high', 'high', 'high', 'high', 'high', 'medium',\n",
              "       'low', 'high', 'medium', 'low', 'low', 'high', 'high', 'low',\n",
              "       'medium', 'low', 'high', 'high', 'medium', 'low', 'high', 'medium',\n",
              "       'high', 'medium', 'high', 'medium', 'high', 'low', 'low', 'high',\n",
              "       'high', 'high', 'high', 'medium', 'high', 'medium', 'high', 'low',\n",
              "       'low', 'low', 'medium', 'high', 'low', 'high', 'low', 'high',\n",
              "       'low', 'medium', 'low', 'low', 'low', 'medium', 'medium', 'low',\n",
              "       'medium', 'medium', 'low', 'low', 'medium', 'high', 'low',\n",
              "       'medium', 'low', 'medium', 'low', 'low', 'low', 'low', 'high',\n",
              "       'low', 'medium', 'medium', 'low', 'high', 'low', 'low', 'low',\n",
              "       'low', 'low', 'high', 'medium', 'high', 'low', 'low', 'low', 'low',\n",
              "       'medium', 'high', 'low', 'low', 'low', 'medium', 'high', 'low',\n",
              "       'low', 'low', 'high', 'low', 'low', 'low', 'high', 'medium',\n",
              "       'high', 'medium', 'medium', 'medium', 'high', 'low', 'medium',\n",
              "       'medium', 'medium', 'high', 'medium', 'high', 'high', 'medium',\n",
              "       'medium', 'low', 'low', 'low', 'high', 'low', 'low', 'medium',\n",
              "       'high', 'low', 'medium', 'medium', 'low', 'medium', 'medium',\n",
              "       'medium', 'medium', 'medium', 'low', 'low', 'low', 'low', 'low',\n",
              "       'medium', 'high', 'high', 'medium', 'low', 'medium', 'low', 'high',\n",
              "       'low', 'medium', 'low', 'medium', 'medium', 'low', 'low', 'medium',\n",
              "       'low', 'medium', 'medium', 'low', 'low', 'medium', 'low', 'medium',\n",
              "       'low', 'low', 'medium', 'high', 'low', 'high', 'low', 'high',\n",
              "       'medium', 'medium', 'medium', 'low', 'medium', 'high', 'low',\n",
              "       'low', 'low', 'medium', 'low', 'low', 'medium', 'low', 'low',\n",
              "       'low', 'low', 'low', 'low', 'low', 'high', 'low', 'medium', 'high',\n",
              "       'low', 'low', 'low', 'high', 'low', 'low', 'high', 'low', 'low',\n",
              "       'high', 'medium', 'low', 'low', 'medium', 'medium', 'medium',\n",
              "       'low', 'high', 'low', 'low', 'low', 'low', 'low', 'medium', 'low',\n",
              "       'high', 'low', 'high', 'high', 'medium', 'medium', 'medium', 'low',\n",
              "       'low', 'high', 'low', 'low', 'medium', 'medium', 'low', 'medium',\n",
              "       'low', 'low', 'low', 'low', 'medium', 'medium', 'low', 'high',\n",
              "       'low', 'medium', 'low', 'low', 'high', 'medium', 'medium',\n",
              "       'medium', 'low', 'low', 'low', 'medium', 'low', 'low', 'low',\n",
              "       'high', 'high', 'high', 'high', 'medium', 'high', 'low', 'medium',\n",
              "       'low', 'medium', 'medium', 'medium', 'low', 'medium', 'low',\n",
              "       'medium', 'low', 'medium', 'medium', 'high', 'low', 'low', 'low',\n",
              "       'medium', 'medium', 'medium', 'high', 'medium', 'medium', 'medium',\n",
              "       'medium', 'medium', 'low', 'low', 'low', 'low', 'medium', 'low',\n",
              "       'low', 'high', 'low', 'high', 'medium', 'low', 'medium', 'medium',\n",
              "       'high', 'low', 'low', 'low', 'medium', 'low', 'high', 'medium',\n",
              "       'low', 'high', 'low', 'medium', 'high', 'high', 'medium', 'low',\n",
              "       'high', 'high', 'medium', 'high', 'low', 'low', 'low', 'high',\n",
              "       'low', 'medium', 'medium', 'high', 'medium', 'low', 'high', 'low',\n",
              "       'low', 'low', 'medium', 'low', 'medium', 'low', 'high', 'high',\n",
              "       'high', 'medium', 'low', 'low', 'low', 'high', 'low', 'medium',\n",
              "       'low', 'low', 'low', 'high', 'low', 'medium', 'medium', 'medium',\n",
              "       'medium', 'low', 'medium', 'medium', 'low', 'low', 'high', 'high',\n",
              "       'medium', 'low', 'low', 'medium', 'high', 'low', 'high', 'low',\n",
              "       'medium', 'high', 'high', 'medium', 'medium', 'medium', 'low',\n",
              "       'medium', 'medium', 'medium', 'medium', 'medium', 'low', 'high',\n",
              "       'high', 'high', 'high', 'medium', 'medium', 'high', 'low', 'low',\n",
              "       'low', 'low', 'high', 'low', 'high', 'high', 'medium', 'low',\n",
              "       'low', 'medium', 'high', 'low', 'medium', 'medium', 'low', 'low',\n",
              "       'medium', 'high', 'high', 'high', 'low', 'medium', 'medium',\n",
              "       'medium', 'low', 'high', 'high', 'medium', 'medium', 'high', 'low',\n",
              "       'low', 'medium', 'medium', 'high', 'low', 'medium', 'high', 'low',\n",
              "       'high', 'low', 'medium', 'low', 'medium', 'medium', 'low',\n",
              "       'medium', 'medium', 'high', 'medium', 'low', 'medium', 'high',\n",
              "       'low', 'medium', 'high', 'low', 'medium', 'medium', 'medium',\n",
              "       'medium', 'low', 'high', 'low', 'high', 'low', 'low', 'medium',\n",
              "       'low', 'medium', 'low', 'high', 'medium', 'medium', 'high', 'high',\n",
              "       'low', 'low', 'high', 'low', 'high', 'high', 'low', 'high', 'high',\n",
              "       'high', 'high', 'high', 'medium', 'medium', 'low', 'high', 'low',\n",
              "       'low', 'high', 'low', 'medium', 'high', 'high', 'medium', 'high',\n",
              "       'low', 'medium', 'low', 'high', 'low', 'low', 'medium', 'low',\n",
              "       'medium', 'low', 'high', 'high', 'low', 'low', 'low', 'medium',\n",
              "       'low', 'medium', 'medium', 'medium', 'low', 'medium', 'high',\n",
              "       'low', 'high', 'medium', 'low', 'low', 'high', 'low', 'high',\n",
              "       'medium', 'medium', 'high', 'high', 'medium', 'high', 'medium',\n",
              "       'low', 'low', 'medium', 'medium', 'high', 'medium', 'low', 'low',\n",
              "       'low', 'low', 'low', 'medium', 'medium', 'low', 'high'],\n",
              "      dtype=object)"
            ]
          },
          "metadata": {},
          "execution_count": 32
        }
      ],
      "source": [
        "y_train"
      ]
    },
    {
      "cell_type": "code",
      "execution_count": null,
      "metadata": {
        "colab": {
          "base_uri": "https://localhost:8080/"
        },
        "id": "LtvtZ2LUbRbz",
        "outputId": "05fdc0a7-551b-4fba-b3e9-970f99604ee1"
      },
      "outputs": [
        {
          "output_type": "execute_result",
          "data": {
            "text/plain": [
              "array(['high', 'low', 'low', 'medium', 'medium', 'low', 'low', 'high',\n",
              "       'low', 'medium', 'low', 'medium', 'high', 'medium', 'low', 'low',\n",
              "       'high', 'medium', 'medium', 'medium', 'low', 'medium', 'high',\n",
              "       'medium', 'medium', 'medium', 'low', 'high', 'low', 'low',\n",
              "       'medium', 'high', 'high', 'medium', 'high', 'medium', 'medium',\n",
              "       'high', 'medium', 'medium', 'low', 'low', 'low', 'medium', 'high',\n",
              "       'low', 'high', 'high', 'medium', 'high', 'medium', 'low', 'low',\n",
              "       'medium', 'medium', 'low', 'high', 'low', 'low', 'medium',\n",
              "       'medium', 'low', 'high', 'high', 'high', 'low', 'medium', 'medium',\n",
              "       'low', 'medium', 'low', 'low', 'high', 'medium', 'low', 'low',\n",
              "       'low', 'medium', 'low', 'medium', 'medium', 'medium', 'high',\n",
              "       'high', 'medium', 'medium', 'medium', 'low', 'medium', 'high',\n",
              "       'low', 'low', 'high', 'medium', 'low', 'medium', 'high', 'high',\n",
              "       'low', 'high', 'low', 'low', 'low', 'low', 'medium', 'medium',\n",
              "       'low', 'low', 'medium', 'high', 'high', 'medium', 'medium', 'low',\n",
              "       'high', 'low', 'medium', 'low', 'low', 'high', 'medium', 'low',\n",
              "       'low', 'low', 'medium', 'high', 'medium', 'medium', 'high',\n",
              "       'medium', 'low', 'medium', 'low', 'medium', 'low', 'low', 'medium',\n",
              "       'low', 'medium', 'medium', 'medium', 'high', 'low', 'medium',\n",
              "       'low', 'low', 'high', 'low', 'low', 'medium', 'medium', 'medium',\n",
              "       'medium', 'low', 'medium', 'low', 'low', 'high', 'low', 'high',\n",
              "       'medium', 'medium', 'medium', 'low', 'medium', 'high', 'low',\n",
              "       'low', 'medium', 'low', 'medium', 'high', 'low', 'low', 'high',\n",
              "       'low', 'medium', 'medium', 'medium', 'medium', 'low', 'medium',\n",
              "       'high', 'low', 'high', 'low', 'medium', 'high', 'medium', 'low',\n",
              "       'low', 'medium', 'medium', 'low', 'high', 'low', 'low', 'high',\n",
              "       'medium', 'medium', 'medium', 'medium', 'high', 'high', 'medium',\n",
              "       'low', 'medium', 'medium', 'medium', 'medium', 'high', 'high',\n",
              "       'medium', 'medium', 'high', 'low', 'low', 'high', 'medium', 'low',\n",
              "       'medium', 'medium', 'high', 'high', 'low', 'high', 'low', 'low',\n",
              "       'medium', 'high', 'high', 'low', 'medium', 'low', 'medium', 'low',\n",
              "       'medium', 'low', 'medium', 'low', 'low', 'high', 'high', 'low',\n",
              "       'low', 'high', 'low', 'medium', 'low', 'low', 'low', 'high',\n",
              "       'medium', 'high', 'medium', 'medium', 'low', 'medium', 'low',\n",
              "       'low', 'medium', 'high', 'high', 'high', 'medium', 'low', 'high',\n",
              "       'high', 'medium', 'medium', 'medium', 'medium', 'low', 'high',\n",
              "       'medium', 'low', 'low', 'low', 'medium', 'high', 'medium', 'high',\n",
              "       'medium', 'high', 'low', 'low', 'low', 'medium', 'high', 'medium',\n",
              "       'low', 'low', 'medium', 'high', 'medium', 'medium', 'high', 'high',\n",
              "       'medium', 'low', 'medium', 'low', 'high', 'medium', 'low', 'low',\n",
              "       'low', 'high', 'medium', 'medium', 'medium', 'medium', 'medium',\n",
              "       'medium', 'medium', 'medium', 'low', 'high'], dtype=object)"
            ]
          },
          "metadata": {},
          "execution_count": 33
        }
      ],
      "source": [
        "y_test"
      ]
    },
    {
      "cell_type": "markdown",
      "source": [
        "### **Normalisation**"
      ],
      "metadata": {
        "id": "TMq0VKFAvmgi"
      }
    },
    {
      "cell_type": "code",
      "execution_count": null,
      "metadata": {
        "id": "PN8QaZZObVZm"
      },
      "outputs": [],
      "source": [
        "from sklearn.preprocessing import StandardScaler\n",
        "scaler=StandardScaler()\n",
        "scaler.fit(x_train)\n",
        "x_train=scaler.transform(x_train)\n",
        "x_test=scaler.transform(x_test)"
      ]
    },
    {
      "cell_type": "code",
      "execution_count": null,
      "metadata": {
        "colab": {
          "base_uri": "https://localhost:8080/"
        },
        "id": "pMRofzOlbaWm",
        "outputId": "10d1e01a-78ea-4521-d950-6d2fc488e6b2"
      },
      "outputs": [
        {
          "output_type": "execute_result",
          "data": {
            "text/plain": [
              "array([[-0.01298657, -0.73413845,  0.93338744, ...,  0.66666667,\n",
              "         0.98792712,  0.72665791],\n",
              "       [-0.01298657, -0.73413845,  0.93338744, ...,  0.66666667,\n",
              "         0.98792712,  0.72665791],\n",
              "       [-1.35738312, -0.63281668,  0.93338744, ...,  0.66666667,\n",
              "        -1.01222041,  0.72665791],\n",
              "       ...,\n",
              "       [-0.08374428, -0.83546022, -1.07136646, ...,  0.66666667,\n",
              "        -1.01222041,  0.72665791],\n",
              "       [-0.01298657,  0.58304458, -1.07136646, ..., -1.5       ,\n",
              "         0.98792712, -0.47043749],\n",
              "       [ 0.12852886,  0.07643572,  0.93338744, ...,  0.66666667,\n",
              "        -1.01222041, -1.66753288]])"
            ]
          },
          "metadata": {},
          "execution_count": 35
        }
      ],
      "source": [
        "x_train"
      ]
    },
    {
      "cell_type": "code",
      "execution_count": null,
      "metadata": {
        "colab": {
          "base_uri": "https://localhost:8080/"
        },
        "id": "sVjmaLqhbclM",
        "outputId": "984efa51-266c-4123-e447-a8b04778ea76"
      },
      "outputs": [
        {
          "output_type": "execute_result",
          "data": {
            "text/plain": [
              "array([[-0.01298657, -0.43017314,  0.93338744, ...,  0.66666667,\n",
              "         0.98792712,  0.72665791],\n",
              "       [-1.49889854,  1.5962623 , -1.07136646, ...,  0.66666667,\n",
              "         0.98792712, -0.47043749],\n",
              "       [ 1.68519854, -0.12620782,  0.93338744, ...,  0.66666667,\n",
              "         0.98792712, -0.47043749],\n",
              "       ...,\n",
              "       [ 0.12852886,  0.07643572, -1.07136646, ..., -1.5       ,\n",
              "         0.98792712,  0.72665791],\n",
              "       [-0.08374428,  0.58304458,  0.93338744, ...,  0.66666667,\n",
              "        -1.01222041, -1.42811381],\n",
              "       [ 0.05777114, -0.63281668,  0.93338744, ...,  0.66666667,\n",
              "        -1.01222041,  0.72665791]])"
            ]
          },
          "metadata": {},
          "execution_count": 36
        }
      ],
      "source": [
        "x_test"
      ]
    },
    {
      "cell_type": "markdown",
      "source": [
        "### **Model creation**"
      ],
      "metadata": {
        "id": "JIMKr1cBxw5H"
      }
    },
    {
      "cell_type": "code",
      "execution_count": null,
      "metadata": {
        "colab": {
          "base_uri": "https://localhost:8080/"
        },
        "id": "h0nE578hbf7k",
        "outputId": "a90f42ce-17bb-4b98-881f-f8ccfadfdd52"
      },
      "outputs": [
        {
          "output_type": "execute_result",
          "data": {
            "text/plain": [
              "array(['high', 'low', 'low', 'medium', 'medium', 'low', 'low', 'high',\n",
              "       'low', 'medium', 'low', 'medium', 'high', 'medium', 'low', 'low',\n",
              "       'high', 'medium', 'medium', 'medium', 'low', 'medium', 'high',\n",
              "       'medium', 'medium', 'medium', 'medium', 'high', 'low', 'low',\n",
              "       'medium', 'medium', 'high', 'medium', 'high', 'medium', 'medium',\n",
              "       'high', 'medium', 'medium', 'low', 'low', 'low', 'medium', 'high',\n",
              "       'low', 'high', 'high', 'medium', 'high', 'medium', 'low', 'low',\n",
              "       'medium', 'medium', 'low', 'high', 'low', 'low', 'medium',\n",
              "       'medium', 'low', 'high', 'high', 'high', 'low', 'medium', 'medium',\n",
              "       'low', 'medium', 'low', 'low', 'high', 'medium', 'low', 'low',\n",
              "       'low', 'medium', 'low', 'medium', 'medium', 'medium', 'high',\n",
              "       'high', 'medium', 'medium', 'medium', 'low', 'medium', 'high',\n",
              "       'low', 'low', 'high', 'medium', 'low', 'medium', 'high', 'medium',\n",
              "       'low', 'medium', 'low', 'low', 'low', 'low', 'medium', 'medium',\n",
              "       'low', 'low', 'medium', 'high', 'high', 'medium', 'medium', 'low',\n",
              "       'high', 'low', 'medium', 'low', 'high', 'high', 'medium', 'low',\n",
              "       'low', 'low', 'medium', 'high', 'medium', 'medium', 'high',\n",
              "       'medium', 'low', 'medium', 'low', 'medium', 'low', 'low', 'medium',\n",
              "       'low', 'medium', 'medium', 'medium', 'high', 'low', 'medium',\n",
              "       'low', 'low', 'medium', 'low', 'low', 'medium', 'medium', 'medium',\n",
              "       'medium', 'low', 'medium', 'low', 'low', 'high', 'low', 'high',\n",
              "       'medium', 'medium', 'medium', 'low', 'medium', 'high', 'low',\n",
              "       'low', 'medium', 'low', 'medium', 'high', 'low', 'low', 'high',\n",
              "       'low', 'medium', 'medium', 'medium', 'medium', 'low', 'medium',\n",
              "       'high', 'low', 'high', 'low', 'medium', 'high', 'medium', 'low',\n",
              "       'low', 'medium', 'medium', 'low', 'high', 'low', 'low', 'high',\n",
              "       'medium', 'medium', 'medium', 'medium', 'high', 'high', 'medium',\n",
              "       'low', 'medium', 'medium', 'medium', 'medium', 'high', 'high',\n",
              "       'medium', 'medium', 'high', 'low', 'low', 'high', 'medium', 'low',\n",
              "       'medium', 'medium', 'medium', 'medium', 'low', 'high', 'low',\n",
              "       'low', 'medium', 'high', 'high', 'low', 'medium', 'low', 'medium',\n",
              "       'low', 'medium', 'low', 'medium', 'low', 'low', 'high', 'high',\n",
              "       'low', 'low', 'high', 'low', 'medium', 'low', 'low', 'low', 'high',\n",
              "       'medium', 'high', 'medium', 'medium', 'low', 'medium', 'low',\n",
              "       'low', 'medium', 'high', 'high', 'high', 'medium', 'low', 'high',\n",
              "       'high', 'medium', 'medium', 'medium', 'medium', 'low', 'high',\n",
              "       'medium', 'low', 'low', 'low', 'medium', 'high', 'medium', 'high',\n",
              "       'medium', 'medium', 'low', 'low', 'low', 'medium', 'high',\n",
              "       'medium', 'medium', 'low', 'medium', 'high', 'medium', 'medium',\n",
              "       'high', 'high', 'medium', 'low', 'medium', 'low', 'high', 'medium',\n",
              "       'low', 'low', 'low', 'high', 'medium', 'medium', 'medium',\n",
              "       'medium', 'medium', 'medium', 'medium', 'medium', 'low', 'high'],\n",
              "      dtype=object)"
            ]
          },
          "metadata": {},
          "execution_count": 37
        }
      ],
      "source": [
        "from sklearn.neighbors import KNeighborsClassifier\n",
        "knn=KNeighborsClassifier(n_neighbors=7)\n",
        "knn.fit(x_train,y_train)\n",
        "y_pred=knn.predict(x_test)\n",
        "y_pred"
      ]
    },
    {
      "cell_type": "code",
      "execution_count": null,
      "metadata": {
        "colab": {
          "base_uri": "https://localhost:8080/"
        },
        "id": "ePBXKhpFbo_K",
        "outputId": "a1937ed7-a826-408d-b021-0c774fb7b134"
      },
      "outputs": [
        {
          "output_type": "execute_result",
          "data": {
            "text/plain": [
              "array(['high', 'low', 'low', 'medium', 'medium', 'low', 'low', 'high',\n",
              "       'low', 'medium', 'low', 'medium', 'high', 'medium', 'low', 'low',\n",
              "       'high', 'medium', 'medium', 'medium', 'low', 'medium', 'high',\n",
              "       'medium', 'medium', 'medium', 'low', 'high', 'low', 'low',\n",
              "       'medium', 'high', 'high', 'medium', 'high', 'medium', 'medium',\n",
              "       'high', 'medium', 'medium', 'low', 'low', 'low', 'medium', 'high',\n",
              "       'low', 'high', 'high', 'medium', 'high', 'medium', 'low', 'low',\n",
              "       'medium', 'medium', 'low', 'high', 'low', 'low', 'medium',\n",
              "       'medium', 'low', 'high', 'high', 'high', 'low', 'medium', 'medium',\n",
              "       'low', 'medium', 'low', 'low', 'high', 'medium', 'low', 'low',\n",
              "       'low', 'medium', 'low', 'medium', 'medium', 'medium', 'high',\n",
              "       'high', 'medium', 'medium', 'medium', 'low', 'medium', 'high',\n",
              "       'low', 'low', 'high', 'medium', 'low', 'medium', 'high', 'high',\n",
              "       'low', 'high', 'low', 'low', 'low', 'low', 'medium', 'medium',\n",
              "       'low', 'low', 'medium', 'high', 'high', 'medium', 'medium', 'low',\n",
              "       'high', 'low', 'medium', 'low', 'low', 'high', 'medium', 'low',\n",
              "       'low', 'low', 'medium', 'high', 'medium', 'medium', 'high',\n",
              "       'medium', 'low', 'medium', 'low', 'medium', 'low', 'low', 'medium',\n",
              "       'low', 'medium', 'medium', 'medium', 'high', 'low', 'medium',\n",
              "       'low', 'low', 'high', 'low', 'low', 'medium', 'medium', 'medium',\n",
              "       'medium', 'low', 'medium', 'low', 'low', 'high', 'low', 'high',\n",
              "       'medium', 'medium', 'medium', 'low', 'medium', 'high', 'low',\n",
              "       'low', 'medium', 'low', 'medium', 'high', 'low', 'low', 'high',\n",
              "       'low', 'medium', 'medium', 'medium', 'medium', 'low', 'medium',\n",
              "       'high', 'low', 'high', 'low', 'medium', 'high', 'medium', 'low',\n",
              "       'low', 'medium', 'medium', 'low', 'high', 'low', 'low', 'high',\n",
              "       'medium', 'medium', 'medium', 'medium', 'high', 'high', 'medium',\n",
              "       'low', 'medium', 'medium', 'medium', 'medium', 'high', 'high',\n",
              "       'medium', 'medium', 'high', 'low', 'low', 'high', 'medium', 'low',\n",
              "       'medium', 'medium', 'high', 'high', 'low', 'high', 'low', 'low',\n",
              "       'medium', 'high', 'high', 'low', 'medium', 'low', 'medium', 'low',\n",
              "       'medium', 'low', 'medium', 'low', 'low', 'high', 'high', 'low',\n",
              "       'low', 'high', 'low', 'medium', 'low', 'low', 'low', 'high',\n",
              "       'medium', 'high', 'medium', 'medium', 'low', 'medium', 'low',\n",
              "       'low', 'medium', 'high', 'high', 'high', 'medium', 'low', 'high',\n",
              "       'high', 'medium', 'medium', 'medium', 'medium', 'low', 'high',\n",
              "       'medium', 'low', 'low', 'low', 'medium', 'high', 'medium', 'high',\n",
              "       'medium', 'high', 'low', 'low', 'low', 'medium', 'high', 'medium',\n",
              "       'low', 'low', 'medium', 'high', 'medium', 'medium', 'high', 'high',\n",
              "       'medium', 'low', 'medium', 'low', 'high', 'medium', 'low', 'low',\n",
              "       'low', 'high', 'medium', 'medium', 'medium', 'medium', 'medium',\n",
              "       'medium', 'medium', 'medium', 'low', 'high'], dtype=object)"
            ]
          },
          "metadata": {},
          "execution_count": 38
        }
      ],
      "source": [
        "y_test"
      ]
    },
    {
      "cell_type": "markdown",
      "source": [
        "### **Performance evaluation**"
      ],
      "metadata": {
        "id": "jBLtRhURybmH"
      }
    },
    {
      "cell_type": "code",
      "execution_count": null,
      "metadata": {
        "colab": {
          "base_uri": "https://localhost:8080/"
        },
        "id": "WVuGfF8ebvj5",
        "outputId": "dc3806aa-fb81-47ee-9fa2-863a0b550152"
      },
      "outputs": [
        {
          "output_type": "execute_result",
          "data": {
            "text/plain": [
              "(array([[ 69,   0,   7],\n",
              "        [  1, 112,   2],\n",
              "        [  0,   0, 127]]),\n",
              " 0.9685534591194969)"
            ]
          },
          "metadata": {},
          "execution_count": 39
        }
      ],
      "source": [
        "from sklearn.metrics import confusion_matrix,accuracy_score\n",
        "result=confusion_matrix(y_test,y_pred)\n",
        "score=accuracy_score(y_test,y_pred)\n",
        "result,score"
      ]
    },
    {
      "cell_type": "code",
      "execution_count": null,
      "metadata": {
        "colab": {
          "base_uri": "https://localhost:8080/"
        },
        "id": "pJRRGelIb5A8",
        "outputId": "0cf2b2bb-1550-46a2-cb14-8f6a8aca505b"
      },
      "outputs": [
        {
          "output_type": "stream",
          "name": "stdout",
          "text": [
            "              precision    recall  f1-score   support\n",
            "\n",
            "        high       0.99      0.91      0.95        76\n",
            "         low       1.00      0.97      0.99       115\n",
            "      medium       0.93      1.00      0.97       127\n",
            "\n",
            "    accuracy                           0.97       318\n",
            "   macro avg       0.97      0.96      0.97       318\n",
            "weighted avg       0.97      0.97      0.97       318\n",
            "\n"
          ]
        }
      ],
      "source": [
        "from sklearn.metrics import classification_report\n",
        "print(classification_report(y_test,y_pred))"
      ]
    }
  ],
  "metadata": {
    "colab": {
      "provenance": [],
      "authorship_tag": "ABX9TyMSo9Kk0lTdbYn/Lcll9PV0",
      "include_colab_link": true
    },
    "kernelspec": {
      "display_name": "Python 3",
      "name": "python3"
    },
    "language_info": {
      "name": "python"
    }
  },
  "nbformat": 4,
  "nbformat_minor": 0
}